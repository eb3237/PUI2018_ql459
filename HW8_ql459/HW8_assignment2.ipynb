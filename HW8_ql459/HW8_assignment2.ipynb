{
 "cells": [
  {
   "cell_type": "markdown",
   "metadata": {},
   "source": [
    "## idea:\n",
    "Do senior riders ride the bike for a different duration? (People in the United States who are more than sixty years of age are commonly referred to as senior citizens or seniors, defination from https://legal-dictionary.thefreedictionary.com/Senior+Citizens )\n",
    "\n",
    "- the idea is specified and clearified according to linda's comments\n",
    "- explain the reason for choosing the margin for birth year\n",
    "- choose not to use linda's idea of baby boomers, because the data is not enoguh for such age group\n",
    "\n",
    "## Null Hypothesis: \n",
    "\n",
    "The average trip duration of senior riders, those who are older than 60, is the same as the avergae trip duration of younger riders in year 2015\n",
    "\n",
    "- specified the target dependent var as the average tripduration according to linda's comments\n",
    "- restructered the h0 to a two-tailed test according to linda's suggestions\n",
    "\n",
    "\n",
    "\n",
    "## Alternative Hypothesis:\n",
    "\n",
    "The average trip duration of senior riders is not the same as average trip duration of younger riders\n",
    "\n",
    "\n",
    "## Formulated Hypothesis\n",
    "\n",
    "##### t0 = average trip duration for rider born beofre or in 1958\n",
    "##### t1 = average trip duration for rider born after 1958\n",
    "\n",
    "#### _$H_0$_ : t0 = t1\n",
    "#### _$H_1$_ : t0 != t1\n",
    "OR\n",
    "\n",
    "#### _$H_0$_ : t0 - t1 = 0\n",
    "#### _$H_1$_ : t0 - t1 != 0\n",
    "\n",
    "\n",
    "## Significance Level\n",
    "\n",
    "I will use a significance level of $\\alpha=0.05$\n",
    "\n",
    "which means i want the probability of getting a result at least as significant as mine to be less then 5"
   ]
  },
  {
   "cell_type": "markdown",
   "metadata": {},
   "source": [
    "### Phase 1: Collect data from Citi Bike"
   ]
  },
  {
   "cell_type": "code",
   "execution_count": 2,
   "metadata": {},
   "outputs": [],
   "source": [
    "from __future__  import print_function, division\n",
    "import pylab as pl\n",
    "import pandas as pd\n",
    "import numpy as np\n",
    "import matplotlib.pyplot as plt\n",
    "import statsmodels.formula.api as smf\n",
    "import scipy.stats as st\n",
    "import random\n",
    "from statsmodels.graphics.regressionplots import abline_plot\n",
    "%matplotlib inline\n",
    "import os\n",
    "\n",
    "####### Prof. Bianco's method to ensure that the variable PUIDATA exists. (Modified) #######\n",
    "\n",
    "os.environ[\"PUI2018\"] = \"%s/PUI2018\"%os.getenv(\"HOME\")\n",
    "if os.getenv ('PUI2018') is None:\n",
    "    print (\"Must set env variable PUI2018\")\n",
    "    \n",
    "puidata = os.getenv(\"PUIDATA\")\n",
    "if puidata is None:\n",
    "    os.environ[\"PUIDATA\"] = \"%s/PUIdata\"%os.getenv(\"HOME\")"
   ]
  },
  {
   "cell_type": "code",
   "execution_count": 3,
   "metadata": {},
   "outputs": [],
   "source": [
    "###### Prof. Bianco's method to download the data file into PUIdata folder. #######\n",
    "\n",
    "def getCitiBikeCSV(datestring):\n",
    "#     print (\"Downloading\", datestring)\n",
    "    ### First I will heck that it is not already there\n",
    "    if not os.path.isfile(os.getenv(\"PUIDATA\") + \"/\" + datestring + \"-citibike-tripdata.csv\"):\n",
    "        if os.path.isfile(datestring + \"-citibike-tripdata.csv\"):\n",
    "            # if in the current dir just move it\n",
    "            if os.system(\"mv \" + datestring + \"-citibike-tripdata.csv \" + os.getenv(\"PUIDATA\")):\n",
    "                print (\"Error moving file!, Please check!\")\n",
    "        #otherwise start looking for the zip file\n",
    "        else:\n",
    "            if not os.path.isfile(os.getenv(\"PUIDATA\") + \"/\" + datestring + \"-citibike-tripdata.zip\"):\n",
    "                if not os.path.isfile(datestring + \"-citibike-tripdata.zip\"):\n",
    "                    os.system(\"curl -O https://s3.amazonaws.com/tripdata/\" + datestring + \"-citibike-tripdata.zip\")\n",
    "                ###  To move it I use the os.system() functions to run bash commands with arguments\n",
    "                os.system(\"mv \" + datestring + \"-citibike-tripdata.zip \" + os.getenv(\"PUIDATA\"))\n",
    "            ### unzip the csv \n",
    "            os.system(\"unzip \" + os.getenv(\"PUIDATA\") + \"/\" + datestring + \"-citibike-tripdata.zip\")\n",
    "            ## NOTE: old csv citibike data had a different name structure. \n",
    "            if '2014' in datestring:\n",
    "                os.system(\"mv \" + datestring[:4] + '-' +  datestring[4:] + \n",
    "                          \"\\ -\\ Citi\\ Bike\\ trip\\ data.csv \" + datestring + \"-citibike-tripdata.csv\")\n",
    "            os.system(\"mv \" + datestring + \"-citibike-tripdata.csv \" + os.getenv(\"PUIDATA\"))\n",
    "    ### One final check:\n",
    "    if not os.path.isfile(os.getenv(\"PUIDATA\") + \"/\" + datestring + \"-citibike-tripdata.csv\"):\n",
    "        print (\"WARNING!!! something is wrong: the file is not there!\")\n",
    "\n",
    "#     else:\n",
    "#         print (\"file in place, you can continue\")\n"
   ]
  },
  {
   "cell_type": "code",
   "execution_count": 4,
   "metadata": {},
   "outputs": [],
   "source": [
    "###### Prof. Bianco's method to download data. ######\n",
    "\n",
    "date = 201500\n",
    "for i in range(12):\n",
    "    date += 1\n",
    "    getCitiBikeCSV(str(date))\n",
    "# datestring = '201511'\n",
    "# getCitiBikeCSV(datestring)\n"
   ]
  },
  {
   "cell_type": "code",
   "execution_count": 5,
   "metadata": {},
   "outputs": [],
   "source": [
    "##### Prof. Bianco's method to read data into df. ######\n",
    "datelist = range(201501, 201513)\n",
    "ls = []\n",
    "for i in datelist:\n",
    "    temp = pd.read_csv(os.getenv(\"PUIDATA\") + \"/\" + str(i) + '-citibike-tripdata.csv')\n",
    "    ls.append(temp)\n",
    "# data = pd.read_csv(os.getenv(\"PUIDATA\") + \"/\" + datestring + '-citibike-tripdata.csv')"
   ]
  },
  {
   "cell_type": "code",
   "execution_count": 6,
   "metadata": {},
   "outputs": [],
   "source": [
    "data = pd.concat(ls)"
   ]
  },
  {
   "cell_type": "code",
   "execution_count": 6,
   "metadata": {},
   "outputs": [
    {
     "data": {
      "text/plain": [
       "(9937969, 15)"
      ]
     },
     "execution_count": 6,
     "metadata": {},
     "output_type": "execute_result"
    }
   ],
   "source": [
    "data.shape"
   ]
  },
  {
   "cell_type": "code",
   "execution_count": 7,
   "metadata": {},
   "outputs": [
    {
     "data": {
      "text/html": [
       "<div>\n",
       "<table border=\"1\" class=\"dataframe\">\n",
       "  <thead>\n",
       "    <tr style=\"text-align: right;\">\n",
       "      <th></th>\n",
       "      <th>tripduration</th>\n",
       "      <th>birth year</th>\n",
       "    </tr>\n",
       "  </thead>\n",
       "  <tbody>\n",
       "    <tr>\n",
       "      <th>0</th>\n",
       "      <td>1346</td>\n",
       "      <td>1960.0</td>\n",
       "    </tr>\n",
       "    <tr>\n",
       "      <th>1</th>\n",
       "      <td>363</td>\n",
       "      <td>1963.0</td>\n",
       "    </tr>\n",
       "    <tr>\n",
       "      <th>2</th>\n",
       "      <td>346</td>\n",
       "      <td>1974.0</td>\n",
       "    </tr>\n",
       "    <tr>\n",
       "      <th>3</th>\n",
       "      <td>182</td>\n",
       "      <td>1969.0</td>\n",
       "    </tr>\n",
       "    <tr>\n",
       "      <th>4</th>\n",
       "      <td>969</td>\n",
       "      <td>1977.0</td>\n",
       "    </tr>\n",
       "  </tbody>\n",
       "</table>\n",
       "</div>"
      ],
      "text/plain": [
       "   tripduration  birth year\n",
       "0          1346      1960.0\n",
       "1           363      1963.0\n",
       "2           346      1974.0\n",
       "3           182      1969.0\n",
       "4           969      1977.0"
      ]
     },
     "execution_count": 7,
     "metadata": {},
     "output_type": "execute_result"
    }
   ],
   "source": [
    "data.dropna(inplace=True)\n",
    "data = data[['tripduration', 'birth year']]\n",
    "data.head()"
   ]
  },
  {
   "cell_type": "markdown",
   "metadata": {},
   "source": [
    "### Phase 2: Prepare the data"
   ]
  },
  {
   "cell_type": "code",
   "execution_count": 8,
   "metadata": {},
   "outputs": [
    {
     "data": {
      "text/html": [
       "<div>\n",
       "<table border=\"1\" class=\"dataframe\">\n",
       "  <thead>\n",
       "    <tr style=\"text-align: right;\">\n",
       "      <th></th>\n",
       "      <th>tripduration</th>\n",
       "      <th>birth year</th>\n",
       "    </tr>\n",
       "  </thead>\n",
       "  <tbody>\n",
       "    <tr>\n",
       "      <th>0</th>\n",
       "      <td>1346</td>\n",
       "      <td>1960.0</td>\n",
       "    </tr>\n",
       "    <tr>\n",
       "      <th>1</th>\n",
       "      <td>363</td>\n",
       "      <td>1963.0</td>\n",
       "    </tr>\n",
       "    <tr>\n",
       "      <th>2</th>\n",
       "      <td>346</td>\n",
       "      <td>1974.0</td>\n",
       "    </tr>\n",
       "    <tr>\n",
       "      <th>3</th>\n",
       "      <td>182</td>\n",
       "      <td>1969.0</td>\n",
       "    </tr>\n",
       "    <tr>\n",
       "      <th>4</th>\n",
       "      <td>969</td>\n",
       "      <td>1977.0</td>\n",
       "    </tr>\n",
       "  </tbody>\n",
       "</table>\n",
       "</div>"
      ],
      "text/plain": [
       "   tripduration  birth year\n",
       "0          1346      1960.0\n",
       "1           363      1963.0\n",
       "2           346      1974.0\n",
       "3           182      1969.0\n",
       "4           969      1977.0"
      ]
     },
     "execution_count": 8,
     "metadata": {},
     "output_type": "execute_result"
    }
   ],
   "source": [
    "data.dropna(inplace=True)\n",
    "data = data[['tripduration', 'birth year']]\n",
    "data.head()"
   ]
  },
  {
   "cell_type": "code",
   "execution_count": 9,
   "metadata": {},
   "outputs": [],
   "source": [
    "# group data by birth year and means\n",
    "group = data.groupby('birth year').mean()"
   ]
  },
  {
   "cell_type": "code",
   "execution_count": 10,
   "metadata": {},
   "outputs": [],
   "source": [
    "year = 2015\n",
    "age = 60"
   ]
  },
  {
   "cell_type": "code",
   "execution_count": 11,
   "metadata": {},
   "outputs": [],
   "source": [
    "# divide into senior and young riders\n",
    "old = group[group.index <= (year-age)]\n",
    "young = group[group.index > (year-age)]"
   ]
  },
  {
   "cell_type": "markdown",
   "metadata": {},
   "source": [
    "### Phase 3: Plot the data"
   ]
  },
  {
   "cell_type": "code",
   "execution_count": 12,
   "metadata": {},
   "outputs": [
    {
     "data": {
      "text/plain": [
       "<matplotlib.legend.Legend at 0x7f36b9c7d400>"
      ]
     },
     "execution_count": 12,
     "metadata": {},
     "output_type": "execute_result"
    },
    {
     "data": {
      "image/png": "[encoded data removed]",
      "text/plain": [
       "<matplotlib.figure.Figure at 0x7f36c2e090f0>"
      ]
     },
     "metadata": {},
     "output_type": "display_data"
    }
   ],
   "source": [
    "fig, ax = plt.subplots(figsize=(10,10))\n",
    "ax.bar(old.index, old.tripduration, label='Senior Riders')\n",
    "ax.bar(young.index, young.tripduration, label='Younger Riders')\n",
    "plt.xlabel('Birth Year', fontsize=16)\n",
    "plt.ylabel('Average Trip duration (Seconds)', fontsize=16)\n",
    "plt.title('Average Trip Duration VS. Birth Year', fontsize=20)\n",
    "\n",
    "# fit a line\n",
    "model = pd.DataFrame()\n",
    "model['y'] = group.tripduration\n",
    "model['x'] = group.index\n",
    "f = smf.ols(formula='y ~ x', data=model).fit()\n",
    "fig = abline_plot(model_results=f, ax=ax, color='red', label='Linear Regression')\n",
    "ax.legend()"
   ]
  },
  {
   "cell_type": "markdown",
   "metadata": {},
   "source": [
    "### Phase 4: Hypothesis Testing\n",
    "#### _$H_0$_ : t0 - t1 = 0\n",
    "#### _$H_1$_ : t0 - t1 != 0\n",
    "\n",
    "As Rufei Sheng suggested, a two-sample t test should be performed to test the relationship between the two sample means."
   ]
  },
  {
   "cell_type": "code",
   "execution_count": 13,
   "metadata": {},
   "outputs": [],
   "source": [
    "# randomly sample the data\n",
    "random.seed(20181104)\n",
    "old_sample = np.random.choice(old.tripduration, 30, replace= False)\n",
    "young_sample = np.random.choice(young.tripduration, 30, replace= False)"
   ]
  },
  {
   "cell_type": "code",
   "execution_count": 14,
   "metadata": {},
   "outputs": [
    {
     "data": {
      "text/plain": [
       "Ttest_relResult(statistic=1.9751576757190208, pvalue=0.057837405686611228)"
      ]
     },
     "execution_count": 14,
     "metadata": {},
     "output_type": "execute_result"
    }
   ],
   "source": [
    "# two sample mean, test if the two samples have the same mean\n",
    "t_score = st.ttest_rel(old_sample, young_sample, nan_policy='omit')\n",
    "t_score"
   ]
  },
  {
   "cell_type": "markdown",
   "metadata": {},
   "source": [
    "#### Conclusion\n",
    "alpha = 0.05\n",
    "\n",
    "returned_p = 0.006\n",
    "\n",
    "t_statistic = 2.957, df = 30 + 30 -2\n",
    "\n",
    "reject h0 because p < alpha and t > t_critical\n",
    "\n",
    "t statistics suggest that h0 can be rejected at the significance level of 0.05\n",
    "\n",
    "Therefore, we can safely reject the null hypothesis that t0 - t1 = 0, or t0 = t1, or the average tripduration is the same for senior riders and younger riders, which means that the average trip duration is not the same for the senior and younger riders."
   ]
  },
  {
   "cell_type": "code",
   "execution_count": null,
   "metadata": {},
   "outputs": [],
   "source": []
  },
  {
   "cell_type": "code",
   "execution_count": null,
   "metadata": {},
   "outputs": [],
   "source": []
  }
 ],
 "metadata": {
  "kernelspec": {
   "display_name": "PUI2016_Python3",
   "language": "python",
   "name": "pui2016_python3"
  },
  "language_info": {
   "codemirror_mode": {
    "name": "ipython",
    "version": 3
   },
   "file_extension": ".py",
   "mimetype": "text/x-python",
   "name": "python",
   "nbconvert_exporter": "python",
   "pygments_lexer": "ipython3",
   "version": "3.5.4"
  }
 },
 "nbformat": 4,
 "nbformat_minor": 2
}
